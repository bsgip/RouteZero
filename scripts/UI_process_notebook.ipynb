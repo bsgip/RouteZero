{
 "cells": [
  {
   "cell_type": "markdown",
   "source": [
    "# RouteZero MVP notebook\n",
    "The goal of this notebook is to provide a start to end example of how a user would supply data and get results from RouteZero. This can then be used as a starting point for the User Inteface design. Some parts of the back end algorithms are incomplete or not solved yet, where this is the case dummy outputs have been used and a note has been made.\n",
    "\n",
    "The general design for this follows the specifications at https://app.clickup.com/6964607/v/dc/6mhbz-8442"
   ],
   "metadata": {
    "collapsed": false,
    "pycharm": {
     "name": "#%% md\n"
    }
   }
  },
  {
   "cell_type": "markdown",
   "source": [
    "# User inputs\n",
    "The user will be required to input the following information:\n",
    "- Route information (GTFS)\n",
    "- Timetable information (GTFS)\n",
    "- Passenger loading (peak for each route)\n",
    "- Define bus characteristics\n",
    "    - battery capacity\n",
    "    - mass\n",
    "    - passenger capacity\n",
    "    - charging rate limit\n",
    "- Type of charger (max charging rate or charger)\n",
    "- (optional) A specific sequence of routes to check for feasibility (should this be specified as route or route + direction?)"
   ],
   "metadata": {
    "collapsed": false,
    "pycharm": {
     "name": "#%% md\n"
    }
   }
  },
  {
   "cell_type": "markdown",
   "source": [
    "# Route and timetable information\n",
    "This information will be provided as GTFS data (potentially with an option to manually provide the same data in some way). Currently, this example uses the public sydney gtfs data obtained from https://opendata.transport.nsw.gov.au/dataset/timetables-complete-gtfs. Reading in the GTFS file can take some time.\n",
    "\n",
    "After providing/selecting the gtfs data to use. All bus routes in the list should be read in and then the user should choose which ones to consider.\n",
    "\n",
    "Incomplete functionality:\n",
    "- This needs an option to select from a few likely feeds or for the user to upload there own.\n",
    "- The function to read in the data and do some initial parsing is time consuming and not very efficient, this could be addressed.\n",
    "- manual entry\n",
    "- Busiest week is based off all routes not off the selected routes"
   ],
   "metadata": {
    "collapsed": false,
    "pycharm": {
     "name": "#%% md\n"
    }
   }
  },
  {
   "cell_type": "markdown",
   "source": [
    "Step 1) load preprocessed gtfs file"
   ],
   "metadata": {
    "collapsed": false,
    "pycharm": {
     "name": "#%% md\n"
    }
   }
  },
  {
   "cell_type": "code",
   "execution_count": null,
   "outputs": [],
   "source": [
    "import pandas as pd\n",
    "trips_data = pd.read_csv('../data/test_trip_summary.csv')\n"
   ],
   "metadata": {
    "collapsed": false,
    "pycharm": {
     "name": "#%%\n"
    }
   }
  }
 ],
 "metadata": {
  "kernelspec": {
   "display_name": "Python 3",
   "language": "python",
   "name": "python3"
  },
  "language_info": {
   "codemirror_mode": {
    "name": "ipython",
    "version": 2
   },
   "file_extension": ".py",
   "mimetype": "text/x-python",
   "name": "python",
   "nbconvert_exporter": "python",
   "pygments_lexer": "ipython2",
   "version": "2.7.6"
  }
 },
 "nbformat": 4,
 "nbformat_minor": 0
}